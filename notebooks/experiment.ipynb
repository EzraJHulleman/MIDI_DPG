{
 "cells": [
  {
   "cell_type": "code",
   "execution_count": 1,
   "metadata": {},
   "outputs": [],
   "source": [
    "import tensorflow as tf\n",
    "\n",
    "# Path to your local .tfrecord file\n",
    "file_path = r'C:\\Users\\Ezra\\Documents\\MIDI_DPG\\Data\\root\\tensorflow_datasets\\groove\\full-midionly\\2.0.1\\groove-test.tfrecord-00000-of-00001'\n",
    "\n",
    "# Define a function to parse the TFRecord data\n",
    "def _parse_function(proto):\n",
    "    # Define the feature description dictionary based on the inspection\n",
    "    feature_description = {\n",
    "        'midi': tf.io.FixedLenFeature([], tf.string),\n",
    "        'style/primary': tf.io.FixedLenFeature([], tf.int64),\n",
    "        'style/secondary': tf.io.FixedLenFeature([], tf.string, default_value=''),\n",
    "        'bpm': tf.io.FixedLenFeature([], tf.int64),\n",
    "        'drummer': tf.io.FixedLenFeature([], tf.int64),\n",
    "        'id': tf.io.FixedLenFeature([], tf.string),\n",
    "        'time_signature': tf.io.FixedLenFeature([], tf.int64),\n",
    "        'type': tf.io.FixedLenFeature([], tf.int64),\n",
    "    }\n",
    "    return tf.io.parse_single_example(proto, feature_description)\n",
    "\n",
    "# Load the TFRecord dataset from the file path\n",
    "raw_dataset = tf.data.TFRecordDataset(file_path)\n",
    "\n",
    "# Parse the dataset using the parsing function\n",
    "dataset = raw_dataset.map(_parse_function)\n",
    "\n",
    "# Build your input pipeline\n",
    "dataset = dataset.shuffle(1024)\n"
   ]
  }
 ],
 "metadata": {
  "kernelspec": {
   "display_name": "env",
   "language": "python",
   "name": "python3"
  },
  "language_info": {
   "codemirror_mode": {
    "name": "ipython",
    "version": 3
   },
   "file_extension": ".py",
   "mimetype": "text/x-python",
   "name": "python",
   "nbconvert_exporter": "python",
   "pygments_lexer": "ipython3",
   "version": "3.12.6"
  }
 },
 "nbformat": 4,
 "nbformat_minor": 2
}
